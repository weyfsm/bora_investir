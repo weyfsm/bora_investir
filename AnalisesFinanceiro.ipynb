{
 "cells": [
  {
   "cell_type": "markdown",
   "metadata": {},
   "source": [
    "# Imports"
   ]
  },
  {
   "cell_type": "code",
   "execution_count": 2,
   "metadata": {},
   "outputs": [],
   "source": [
    "import pandas as pd\n",
    "import matplotlib.pyplot as plt\n",
    "import numpy as np"
   ]
  },
  {
   "cell_type": "code",
   "execution_count": 61,
   "metadata": {},
   "outputs": [],
   "source": [
    "data=pd.read_excel('datasetquest.xlsx','Rótulo')"
   ]
  },
  {
   "cell_type": "markdown",
   "metadata": {},
   "source": [
    "# Seleção e tratamento de dados faltantes"
   ]
  },
  {
   "cell_type": "code",
   "execution_count": 88,
   "metadata": {},
   "outputs": [],
   "source": [
    "datama=data[data['UF']=='MA']\n",
    "datama.fillna(0,inplace=True)"
   ]
  },
  {
   "cell_type": "code",
   "execution_count": 89,
   "metadata": {},
   "outputs": [
    {
     "name": "stdout",
     "output_type": "stream",
     "text": [
      "Dentre os maranhenses do estudo, temos:  63.04 % Homens e 36.96 % Mulheres\n"
     ]
    }
   ],
   "source": [
    "masc=datama[datama['sexo']=='Masculino'].shape[0]\n",
    "fem=datama[datama['sexo']=='Feminino'].shape[0]\n",
    "print('Dentre os maranhenses do estudo, temos: ',round((masc/(masc+fem))*100,2) , '% Homens e', round((fem/(masc+fem))*100,2),'% Mulheres')"
   ]
  },
  {
   "cell_type": "markdown",
   "metadata": {},
   "source": [
    "# Data"
   ]
  },
  {
   "cell_type": "code",
   "execution_count": 64,
   "metadata": {
    "scrolled": true
   },
   "outputs": [
    {
     "name": "stdout",
     "output_type": "stream",
     "text": [
      "63.04 % não conseguiu economizar dinheiro em 2019\n"
     ]
    }
   ],
   "source": [
    "naoeconomizou=datama[datama['conseguiu_economizar_2019'].str.contains(\"Não conseguiu\")]\n",
    "print(round(naoeconomizou.shape[0]*100/datama.shape[0],2), '% não conseguiu economizar dinheiro em 2019')"
   ]
  },
  {
   "cell_type": "code",
   "execution_count": 68,
   "metadata": {},
   "outputs": [
    {
     "name": "stdout",
     "output_type": "stream",
     "text": [
      "56.52 % não conhece nenhum tipo de investimento\n",
      "Somente 2.17 % conhecem ações!\n"
     ]
    }
   ],
   "source": [
    "naoconhece=datama[datama['conhece_os_tipos_de_investimento'].str.contains(\"Não conhece\")]\n",
    "conheceacoes=datama[datama['conhece_os_tipos_de_investimento'].str.contains(\"Ações\")]\n",
    "print(round(naoconhece.shape[0]*100/datama.shape[0],2), '% não conhece nenhum tipo de investimento')\n",
    "print('Somente', round(conheceacoes.shape[0]*100/datama.shape[0],2), '% conhecem ações!')"
   ]
  },
  {
   "cell_type": "code",
   "execution_count": 73,
   "metadata": {},
   "outputs": [
    {
     "name": "stdout",
     "output_type": "stream",
     "text": [
      "67.5 % anda preocupado com a aposentadoria\n"
     ]
    }
   ],
   "source": [
    "aposentadoria=datama[datama['Ando preocupado com minha aposentadoria']=='Concorda'].shape[0]\n",
    "aposentadorianao=datama[datama['Ando preocupado com minha aposentadoria']=='Discorda'].shape[0]\n",
    "print(round(aposentadoria*100/(aposentadoria+aposentadorianao),2), '% anda preocupado com a aposentadoria')"
   ]
  },
  {
   "cell_type": "code",
   "execution_count": 84,
   "metadata": {},
   "outputs": [
    {
     "name": "stdout",
     "output_type": "stream",
     "text": [
      "Dentre as pessoas que conhecem algum tipo de investimento, 90.0 % possuem, no mínimo, ensino médio completo\n"
     ]
    }
   ],
   "source": [
    "conheceinvestimento=datama[datama['conhece_os_tipos_de_investimento']!='Não conhece nenhum tipo de investimento/ Não utiliza nenhum/ Não pretende continuar investindo']\n",
    "conheceinvestimentosuperior=conheceinvestimento[conheceinvestimento['escolaridade'].str.contains('Colegial completo|Pós|Superior')]\n",
    "print('Dentre as pessoas que conhecem algum tipo de investimento,', conheceinvestimentosuperior.shape[0]*100/conheceinvestimento.shape[0], '% possuem, no mínimo, ensino médio completo')"
   ]
  },
  {
   "cell_type": "code",
   "execution_count": 86,
   "metadata": {},
   "outputs": [
    {
     "name": "stdout",
     "output_type": "stream",
     "text": [
      "Dentre as pessoas que não conhecem nenhum tipo de investimento, 57.69 % possuem, no mínimo, ensino médio completo\n"
     ]
    }
   ],
   "source": [
    "naoconhecesuperior=naoconhece[naoconhece['escolaridade'].str.contains('Colegial completo|Pós|Superior')]\n",
    "print('Dentre as pessoas que não conhecem nenhum tipo de investimento,', round(naoconhecesuperior.shape[0]*100/naoconhece.shape[0],2), '% possuem, no mínimo, ensino médio completo')"
   ]
  },
  {
   "cell_type": "code",
   "execution_count": 96,
   "metadata": {},
   "outputs": [
    {
     "name": "stdout",
     "output_type": "stream",
     "text": [
      "Dentre as pessoas que conhecem algum tipo de investimento,  70.0 % são homens e  30.0 % são mulheres\n"
     ]
    }
   ],
   "source": [
    "conheceinvestimentomasc=conheceinvestimento[conheceinvestimento['sexo']=='Masculino'].shape[0]\n",
    "print('Dentre as pessoas que conhecem algum tipo de investimento, ',conheceinvestimentomasc*100/conheceinvestimento.shape[0],'% são homens e ',100-(conheceinvestimentomasc*100/conheceinvestimento.shape[0]),'% são mulheres')"
   ]
  },
  {
   "cell_type": "code",
   "execution_count": 99,
   "metadata": {},
   "outputs": [
    {
     "name": "stdout",
     "output_type": "stream",
     "text": [
      "Dentre os que conhecem algum tipo de investimento,  70.0 % é casado (a)\n"
     ]
    }
   ],
   "source": [
    "conheceinvestimentocasado=conheceinvestimento[conheceinvestimento['est_civil'].str.contains('Casado')].shape[0]\n",
    "print('Dentre os que conhecem algum tipo de investimento, ', conheceinvestimentocasado*100/conheceinvestimento.shape[0],'% é casado (a)')"
   ]
  },
  {
   "cell_type": "code",
   "execution_count": null,
   "metadata": {},
   "outputs": [],
   "source": []
  }
 ],
 "metadata": {
  "kernelspec": {
   "display_name": "Python 3",
   "language": "python",
   "name": "python3"
  },
  "language_info": {
   "codemirror_mode": {
    "name": "ipython",
    "version": 3
   },
   "file_extension": ".py",
   "mimetype": "text/x-python",
   "name": "python",
   "nbconvert_exporter": "python",
   "pygments_lexer": "ipython3",
   "version": "3.7.6"
  }
 },
 "nbformat": 4,
 "nbformat_minor": 4
}
